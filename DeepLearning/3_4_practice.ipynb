{
  "nbformat": 4,
  "nbformat_minor": 0,
  "metadata": {
    "colab": {
      "provenance": [],
      "authorship_tag": "ABX9TyOaZeeJM2DGqz8EE88xGeCV",
      "include_colab_link": true
    },
    "kernelspec": {
      "name": "python3",
      "display_name": "Python 3"
    },
    "language_info": {
      "name": "python"
    },
    "gpuClass": "standard"
  },
  "cells": [
    {
      "cell_type": "markdown",
      "metadata": {
        "id": "view-in-github",
        "colab_type": "text"
      },
      "source": [
        "<a href=\"https://colab.research.google.com/github/YunSeoHwan/My-own-study-repository/blob/main/DeepLearning/3_4_practice.ipynb\" target=\"_parent\"><img src=\"https://colab.research.google.com/assets/colab-badge.svg\" alt=\"Open In Colab\"/></a>"
      ]
    },
    {
      "cell_type": "markdown",
      "source": [
        "# **기본 연산 실습**"
      ],
      "metadata": {
        "id": "Q05-vHnuJ0Ty"
      }
    },
    {
      "cell_type": "code",
      "execution_count": 1,
      "metadata": {
        "id": "d8PKH11xJsu0"
      },
      "outputs": [],
      "source": [
        "import torch"
      ]
    },
    {
      "cell_type": "code",
      "source": [
        "a = torch.FloatTensor([[1, 2],\n",
        "                       [3, 4]])\n",
        "\n",
        "b = torch.FloatTensor([[2, 2],\n",
        "                       [3, 3]])\n",
        "\n",
        "print(a + b)"
      ],
      "metadata": {
        "colab": {
          "base_uri": "https://localhost:8080/"
        },
        "id": "CMy5jw9VJ3kt",
        "outputId": "61bd7c0a-34f9-4403-8e13-d02bef65f942"
      },
      "execution_count": 3,
      "outputs": [
        {
          "output_type": "stream",
          "name": "stdout",
          "text": [
            "tensor([[3., 4.],\n",
            "        [6., 7.]])\n"
          ]
        }
      ]
    },
    {
      "cell_type": "code",
      "source": [
        "# 사칙연산\n",
        "print(a - b)\n",
        "print(a * b)\n",
        "print(a / b)\n",
        "\n",
        "# 제곱\n",
        "print(a ** b)"
      ],
      "metadata": {
        "colab": {
          "base_uri": "https://localhost:8080/"
        },
        "id": "iPk8OejDKNet",
        "outputId": "c312aeb2-87b7-4448-a931-a8ad457248d3"
      },
      "execution_count": 5,
      "outputs": [
        {
          "output_type": "stream",
          "name": "stdout",
          "text": [
            "tensor([[-1.,  0.],\n",
            "        [ 0.,  1.]])\n",
            "tensor([[ 2.,  4.],\n",
            "        [ 9., 12.]])\n",
            "tensor([[0.5000, 1.0000],\n",
            "        [1.0000, 1.3333]])\n",
            "tensor([[ 1.,  4.],\n",
            "        [27., 64.]])\n"
          ]
        }
      ]
    },
    {
      "cell_type": "code",
      "source": [
        "# 논리연산\n",
        "print(a == b)\n",
        "print(a != b)"
      ],
      "metadata": {
        "colab": {
          "base_uri": "https://localhost:8080/"
        },
        "id": "7lxrDFyLKd4s",
        "outputId": "fb155596-26fb-4c74-ef67-1cf1af771af9"
      },
      "execution_count": 6,
      "outputs": [
        {
          "output_type": "stream",
          "name": "stdout",
          "text": [
            "tensor([[False,  True],\n",
            "        [ True, False]])\n",
            "tensor([[ True, False],\n",
            "        [False,  True]])\n"
          ]
        }
      ]
    },
    {
      "cell_type": "markdown",
      "source": [
        "# **인플레이스 연산**"
      ],
      "metadata": {
        "id": "FXRSPYYNLCuH"
      }
    },
    {
      "cell_type": "code",
      "source": [
        "print(a)"
      ],
      "metadata": {
        "colab": {
          "base_uri": "https://localhost:8080/"
        },
        "id": "ubmqu2XkLGdY",
        "outputId": "ceca7920-d303-4e7c-ec5b-ff3e0f583b51"
      },
      "execution_count": 7,
      "outputs": [
        {
          "output_type": "stream",
          "name": "stdout",
          "text": [
            "tensor([[1., 2.],\n",
            "        [3., 4.]])\n"
          ]
        }
      ]
    },
    {
      "cell_type": "code",
      "source": [
        "# 새로운 메모리에 할당됨.\n",
        "print(a.mul(b))"
      ],
      "metadata": {
        "colab": {
          "base_uri": "https://localhost:8080/"
        },
        "id": "3gs99rlYLKh0",
        "outputId": "ad7f58d0-1872-44ce-e958-b4908e83cd5f"
      },
      "execution_count": 8,
      "outputs": [
        {
          "output_type": "stream",
          "name": "stdout",
          "text": [
            "tensor([[ 2.,  4.],\n",
            "        [ 9., 12.]])\n"
          ]
        }
      ]
    },
    {
      "cell_type": "code",
      "source": [
        "print(a)"
      ],
      "metadata": {
        "colab": {
          "base_uri": "https://localhost:8080/"
        },
        "id": "1RIlwIrbLQf8",
        "outputId": "732985e9-6b4f-4d65-dd04-3562bc0da022"
      },
      "execution_count": 9,
      "outputs": [
        {
          "output_type": "stream",
          "name": "stdout",
          "text": [
            "tensor([[1., 2.],\n",
            "        [3., 4.]])\n"
          ]
        }
      ]
    },
    {
      "cell_type": "code",
      "source": [
        "# 메모리 관리 알아서 되므로, 굳이 사용 x\n",
        "print(a.mul_(b))\n",
        "print(a)"
      ],
      "metadata": {
        "colab": {
          "base_uri": "https://localhost:8080/"
        },
        "id": "QYtNfuV0LjQm",
        "outputId": "24773300-63b2-413f-dfd0-43120e023c8e"
      },
      "execution_count": 10,
      "outputs": [
        {
          "output_type": "stream",
          "name": "stdout",
          "text": [
            "tensor([[ 2.,  4.],\n",
            "        [ 9., 12.]])\n",
            "tensor([[ 2.,  4.],\n",
            "        [ 9., 12.]])\n"
          ]
        }
      ]
    },
    {
      "cell_type": "markdown",
      "source": [
        "# **차원 축소 연산**"
      ],
      "metadata": {
        "id": "PuxXw-v5Ly95"
      }
    },
    {
      "cell_type": "code",
      "source": [
        "x = torch.FloatTensor([[1, 2],\n",
        "                       [3, 4]])\n",
        "\n",
        "# 합, 평균은 스칼라로 저장\n",
        "print(x.sum())\n",
        "print(x.mean())"
      ],
      "metadata": {
        "colab": {
          "base_uri": "https://localhost:8080/"
        },
        "id": "B42zCdSpL2Sy",
        "outputId": "b87e159e-3d68-495f-dd19-bb32bd549f5e"
      },
      "execution_count": 13,
      "outputs": [
        {
          "output_type": "stream",
          "name": "stdout",
          "text": [
            "tensor(10.)\n",
            "tensor(2.5000)\n"
          ]
        }
      ]
    },
    {
      "cell_type": "code",
      "source": [
        "# dim 연산\n",
        "print(x.sum(dim = 0))     # 첫번째 차원에 관해 연산 -> 세로 연산\n",
        "print(x.sum(dim = -1))    # 가로 연산"
      ],
      "metadata": {
        "colab": {
          "base_uri": "https://localhost:8080/"
        },
        "id": "5A-_3ferNBQz",
        "outputId": "9d041ca7-d244-41be-e3ef-a9c79cfc25e8"
      },
      "execution_count": 15,
      "outputs": [
        {
          "output_type": "stream",
          "name": "stdout",
          "text": [
            "tensor([4., 6.])\n",
            "tensor([3., 7.])\n"
          ]
        }
      ]
    },
    {
      "cell_type": "markdown",
      "source": [
        "# **브로드캐스트 연산**"
      ],
      "metadata": {
        "id": "mPObdqebNqN2"
      }
    },
    {
      "cell_type": "code",
      "source": [
        "# tensor + scala\n",
        "x = torch.FloatTensor([[1, 2],\n",
        "                       [3, 4]])\n",
        "y = 1\n",
        "\n",
        "z = x + y\n",
        "print(z)\n",
        "print(z.size())"
      ],
      "metadata": {
        "colab": {
          "base_uri": "https://localhost:8080/"
        },
        "id": "7NGIvMcONuB1",
        "outputId": "6a0f119b-88ef-4dee-d71b-cd67e6ce3b8b"
      },
      "execution_count": 16,
      "outputs": [
        {
          "output_type": "stream",
          "name": "stdout",
          "text": [
            "tensor([[2., 3.],\n",
            "        [4., 5.]])\n",
            "torch.Size([2, 2])\n"
          ]
        }
      ]
    },
    {
      "cell_type": "code",
      "source": [
        "# tensor + vetor\n",
        "x = torch.FloatTensor([[1, 2],\n",
        "                       [4, 8]])\n",
        "\n",
        "y = torch.FloatTensor([3, 5])\n",
        "\n",
        "z = x + y\n",
        "print(z)\n",
        "print(z.size())"
      ],
      "metadata": {
        "colab": {
          "base_uri": "https://localhost:8080/"
        },
        "id": "eBxyJB51ODKW",
        "outputId": "a021cd7c-8303-440a-aa3d-d2d8d29b413e"
      },
      "execution_count": 17,
      "outputs": [
        {
          "output_type": "stream",
          "name": "stdout",
          "text": [
            "tensor([[ 4.,  7.],\n",
            "        [ 7., 13.]])\n",
            "torch.Size([2, 2])\n"
          ]
        }
      ]
    },
    {
      "cell_type": "code",
      "source": [
        "# tensor + tensor\n",
        "x = torch.FloatTensor([[1, 2]])\n",
        "y = torch.FloatTensor([[3],\n",
        "                       [5]])\n",
        "\n",
        "print(x.size())\n",
        "print(y.size())\n",
        "\n",
        "z = x + y\n",
        "print(z)\n",
        "print(z.size())"
      ],
      "metadata": {
        "colab": {
          "base_uri": "https://localhost:8080/"
        },
        "id": "e8uR8N4KOuII",
        "outputId": "74d917ff-e44f-4ad6-f51c-39ca955afb2e"
      },
      "execution_count": 19,
      "outputs": [
        {
          "output_type": "stream",
          "name": "stdout",
          "text": [
            "torch.Size([1, 2])\n",
            "torch.Size([2, 1])\n",
            "tensor([[4., 5.],\n",
            "        [6., 7.]])\n",
            "torch.Size([2, 2])\n"
          ]
        }
      ]
    }
  ]
}