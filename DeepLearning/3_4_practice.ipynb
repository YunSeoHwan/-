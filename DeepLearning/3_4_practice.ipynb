{
  "nbformat": 4,
  "nbformat_minor": 0,
  "metadata": {
    "colab": {
      "private_outputs": true,
      "provenance": [],
      "authorship_tag": "ABX9TyOaZeeJM2DGqz8EE88xGeCV",
      "include_colab_link": true
    },
    "kernelspec": {
      "name": "python3",
      "display_name": "Python 3"
    },
    "language_info": {
      "name": "python"
    }
  },
  "cells": [
    {
      "cell_type": "markdown",
      "metadata": {
        "id": "view-in-github",
        "colab_type": "text"
      },
      "source": [
        "<a href=\"https://colab.research.google.com/github/YunSeoHwan/My-own-study-repository/blob/main/DeepLearning/3_4_practice.ipynb\" target=\"_parent\"><img src=\"https://colab.research.google.com/assets/colab-badge.svg\" alt=\"Open In Colab\"/></a>"
      ]
    },
    {
      "cell_type": "markdown",
      "source": [
        "# **기본 연산 실습**"
      ],
      "metadata": {
        "id": "Q05-vHnuJ0Ty"
      }
    },
    {
      "cell_type": "code",
      "execution_count": null,
      "metadata": {
        "id": "d8PKH11xJsu0"
      },
      "outputs": [],
      "source": [
        "import torch"
      ]
    },
    {
      "cell_type": "code",
      "source": [
        "a = torch.FloatTensor([[1, 2],\n",
        "                       [3, 4]])\n",
        "\n",
        "b = torch.FloatTensor([[2, 2],\n",
        "                       [3, 3]])\n",
        "\n",
        "print(a + b)"
      ],
      "metadata": {
        "id": "CMy5jw9VJ3kt"
      },
      "execution_count": null,
      "outputs": []
    },
    {
      "cell_type": "code",
      "source": [
        "# 사칙연산\n",
        "print(a - b)\n",
        "print(a * b)\n",
        "print(a / b)\n",
        "\n",
        "# 제곱\n",
        "print(a ** b)"
      ],
      "metadata": {
        "id": "iPk8OejDKNet"
      },
      "execution_count": null,
      "outputs": []
    },
    {
      "cell_type": "code",
      "source": [
        "# 논리연산\n",
        "print(a == b)\n",
        "print(a != b)"
      ],
      "metadata": {
        "id": "7lxrDFyLKd4s"
      },
      "execution_count": null,
      "outputs": []
    },
    {
      "cell_type": "markdown",
      "source": [
        "# **인플레이스 연산**"
      ],
      "metadata": {
        "id": "FXRSPYYNLCuH"
      }
    },
    {
      "cell_type": "code",
      "source": [
        "print(a)"
      ],
      "metadata": {
        "id": "ubmqu2XkLGdY"
      },
      "execution_count": null,
      "outputs": []
    },
    {
      "cell_type": "code",
      "source": [
        "# 새로운 메모리에 할당됨.\n",
        "print(a.mul(b))"
      ],
      "metadata": {
        "id": "3gs99rlYLKh0"
      },
      "execution_count": null,
      "outputs": []
    },
    {
      "cell_type": "code",
      "source": [
        "print(a)"
      ],
      "metadata": {
        "id": "1RIlwIrbLQf8"
      },
      "execution_count": null,
      "outputs": []
    },
    {
      "cell_type": "code",
      "source": [
        "# 메모리 관리 알아서 되므로, 굳이 사용 x\n",
        "print(a.mul_(b))\n",
        "print(a)"
      ],
      "metadata": {
        "id": "QYtNfuV0LjQm"
      },
      "execution_count": null,
      "outputs": []
    },
    {
      "cell_type": "markdown",
      "source": [
        "# **차원 축소 연산**"
      ],
      "metadata": {
        "id": "PuxXw-v5Ly95"
      }
    },
    {
      "cell_type": "code",
      "source": [
        "x = torch.FloatTensor([[1, 2],\n",
        "                       [3, 4]])\n",
        "\n",
        "# 합, 평균은 스칼라로 저장\n",
        "print(x.sum())\n",
        "print(x.mean())"
      ],
      "metadata": {
        "id": "B42zCdSpL2Sy"
      },
      "execution_count": null,
      "outputs": []
    },
    {
      "cell_type": "code",
      "source": [
        "# dim 연산\n",
        "print(x.sum(dim = 0))     # 첫번째 차원에 관해 연산 -> 세로 연산\n",
        "print(x.sum(dim = -1))    # 가로 연산"
      ],
      "metadata": {
        "id": "5A-_3ferNBQz"
      },
      "execution_count": null,
      "outputs": []
    },
    {
      "cell_type": "markdown",
      "source": [
        "# **브로드캐스트 연산**"
      ],
      "metadata": {
        "id": "mPObdqebNqN2"
      }
    },
    {
      "cell_type": "code",
      "source": [
        "# tensor + scala\n",
        "x = torch.FloatTensor([[1, 2],\n",
        "                       [3, 4]])\n",
        "y = 1\n",
        "\n",
        "z = x + y\n",
        "print(z)\n",
        "print(z.size())"
      ],
      "metadata": {
        "id": "7NGIvMcONuB1"
      },
      "execution_count": null,
      "outputs": []
    },
    {
      "cell_type": "code",
      "source": [
        "# tensor + vetor\n",
        "x = torch.FloatTensor([[1, 2],\n",
        "                       [4, 8]])\n",
        "\n",
        "y = torch.FloatTensor([3, 5])\n",
        "\n",
        "z = x + y\n",
        "print(z)\n",
        "print(z.size())"
      ],
      "metadata": {
        "id": "eBxyJB51ODKW"
      },
      "execution_count": null,
      "outputs": []
    },
    {
      "cell_type": "code",
      "source": [
        "# tensor + tensor\n",
        "x = torch.FloatTensor([[1, 2]])\n",
        "y = torch.FloatTensor([[3],\n",
        "                       [5]])\n",
        "\n",
        "print(x.size())\n",
        "print(y.size())\n",
        "\n",
        "z = x + y\n",
        "print(z)\n",
        "print(z.size())"
      ],
      "metadata": {
        "id": "e8uR8N4KOuII"
      },
      "execution_count": null,
      "outputs": []
    }
  ]
}