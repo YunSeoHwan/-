{
  "nbformat": 4,
  "nbformat_minor": 0,
  "metadata": {
    "colab": {
      "name": "4-2.ipynb",
      "provenance": [],
      "authorship_tag": "ABX9TyNNvhNdVbRGhqqCAkxP+LOz",
      "include_colab_link": true
    },
    "kernelspec": {
      "name": "python3",
      "display_name": "Python 3"
    },
    "language_info": {
      "name": "python"
    }
  },
  "cells": [
    {
      "cell_type": "markdown",
      "metadata": {
        "id": "view-in-github",
        "colab_type": "text"
      },
      "source": [
        "<a href=\"https://colab.research.google.com/github/YunSeoHwan/My-own-study-repository/blob/main/4-2(first).ipynb\" target=\"_parent\"><img src=\"https://colab.research.google.com/assets/colab-badge.svg\" alt=\"Open In Colab\"/></a>"
      ]
    },
    {
      "cell_type": "markdown",
      "metadata": {
        "id": "2oIPZ0mS-6m1"
      },
      "source": [
        "# **확률적 경사 하강법 이론**\n",
        "\n",
        "\n",
        "### 1.   **정의**\n",
        "\n",
        "> 말 그대로 '무작위' 혹은 '랜덤'하게 훈련세트에서 샘플을 하나씩 고르는 것. 방법에 따라 미니배치, 배치 경사 하강법으로 나뉨.\n",
        "\n",
        "\n",
        "### 2.   **미니 배치 경사 하강법**\n",
        "\n",
        "> 여러개씩 샘플을 골라 경사 하강법을 수행하는 방식\n",
        "\n",
        "\n",
        "\n",
        "### 3.   **배치 경사 하강법**\n",
        "\n",
        "> 전체 샘플을 사용해 수행하는 방식. 가장 안정적이나, 자원을 많이 사용하게 됨.\n",
        "\n",
        "\n",
        "### 4.   **에포크**\n",
        "\n",
        "\n",
        "> 훈련세트를 한 번 모두 사용하는 과정으로 보통 수십, 수백 번 이상의 에포크를 수행함.\n",
        "\n",
        "## **손실함수**\n",
        "\n",
        "\n",
        "### 1. **정의**\n",
        "\n",
        "> 머신러닝 알고리즘의 정확도를 측정하는 기준으로 확률적 경사 하강법이 최적화할 대상.\n",
        "\n",
        "\n",
        "### 2. **로지스틱 손실 함수**\n",
        "\n",
        "> 로그함수를 사용한 손실 함수\n",
        "\n",
        "\n",
        "\n",
        "\n",
        "\n",
        "\n",
        "\n",
        "\n"
      ]
    }
  ]
}