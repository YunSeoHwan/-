{
  "nbformat": 4,
  "nbformat_minor": 0,
  "metadata": {
    "colab": {
      "name": "9-1.ipynb",
      "provenance": [],
      "authorship_tag": "ABX9TyOiLACAp0FTqshn3ELCualZ",
      "include_colab_link": true
    },
    "kernelspec": {
      "name": "python3",
      "display_name": "Python 3"
    },
    "language_info": {
      "name": "python"
    }
  },
  "cells": [
    {
      "cell_type": "markdown",
      "metadata": {
        "id": "view-in-github",
        "colab_type": "text"
      },
      "source": [
        "<a href=\"https://colab.research.google.com/github/YunSeoHwan/My-own-study-repository/blob/main/9-1.ipynb\" target=\"_parent\"><img src=\"https://colab.research.google.com/assets/colab-badge.svg\" alt=\"Open In Colab\"/></a>"
      ]
    },
    {
      "cell_type": "markdown",
      "metadata": {
        "id": "yAVBEAIeQgBi"
      },
      "source": [
        "# **순차 데이터와 순환 신경망**\n",
        "\n",
        "---\n",
        "\n"
      ]
    },
    {
      "cell_type": "markdown",
      "metadata": {
        "id": "HBqdBNM5QklB"
      },
      "source": [
        "## **순차 데이터(Sequential data)**\n",
        "\n",
        "*   순서에 의미가 있는 데이터\n",
        "*   ex) i am a boy는 말이 되나 boy am a i는 말이 안됨.\n",
        "\n",
        "\n",
        "## **피드포워드 신경망**\n",
        "\n",
        "*   입력 데이터의 흐름이 앞으로만 전달되는 신경망\n",
        "*   합성곱 신경망과 완전 연결 신경망이 있음.\n",
        "\n",
        "\n",
        "\n",
        "---\n",
        "\n",
        "\n",
        "\n",
        "\n"
      ]
    },
    {
      "cell_type": "markdown",
      "metadata": {
        "id": "GiujPjipR4Q8"
      },
      "source": [
        "## **순환 신경망(Recurrent neural netwokr, RNN)**\n",
        "\n",
        "*   시간의 흐름에 따라 변화하는 데이터를 학습하기 위한 인공신경망\n",
        "\n",
        "## **타임스텝**\n",
        "\n",
        "*   순환 신경망에서 샘플을 처리하는 한 단계를 표현하는 용어.\n",
        "\n",
        "## **셀(Cell), 은닉상태(Hidden state)**\n",
        "\n",
        "*   순환 신경망에서는 층을 셀이라고 부름.\n",
        "*   셀의 출력을 은닉상태라고 부름.\n",
        "\n",
        "\n",
        "\n",
        "\n",
        "---\n",
        "\n",
        "\n",
        "\n",
        "\n"
      ]
    },
    {
      "cell_type": "markdown",
      "metadata": {
        "id": "FCDxb3aUadLl"
      },
      "source": [
        "# **셀의 가중치와 입출력**\n",
        "\n",
        "---\n",
        "\n"
      ]
    },
    {
      "cell_type": "markdown",
      "metadata": {
        "id": "GI2iHb_Caq4D"
      },
      "source": [
        ""
      ]
    }
  ]
}