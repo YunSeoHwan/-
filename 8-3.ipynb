{
  "nbformat": 4,
  "nbformat_minor": 0,
  "metadata": {
    "colab": {
      "name": "8-3.ipynb",
      "provenance": [],
      "collapsed_sections": [],
      "authorship_tag": "ABX9TyPF/TUB3iXCeqwAb+ivjJ8M",
      "include_colab_link": true
    },
    "kernelspec": {
      "name": "python3",
      "display_name": "Python 3"
    },
    "language_info": {
      "name": "python"
    }
  },
  "cells": [
    {
      "cell_type": "markdown",
      "metadata": {
        "id": "view-in-github",
        "colab_type": "text"
      },
      "source": [
        "<a href=\"https://colab.research.google.com/github/YunSeoHwan/My-own-study-repository/blob/main/8-3.ipynb\" target=\"_parent\"><img src=\"https://colab.research.google.com/assets/colab-badge.svg\" alt=\"Open In Colab\"/></a>"
      ]
    },
    {
      "cell_type": "markdown",
      "metadata": {
        "id": "kRR5hosJzwrL"
      },
      "source": [
        "# **가중치 시각화**"
      ]
    },
    {
      "cell_type": "code",
      "metadata": {
        "colab": {
          "base_uri": "https://localhost:8080/"
        },
        "id": "4x8kfqU9xLbB",
        "outputId": "1b933bc3-aab4-4418-dc2f-4750eebea063"
      },
      "source": [
        "from tensorflow import keras\n",
        "!wget https://github.com/rickiepark/hg-mldl/raw/master/best-cnn-model.h5\n",
        "model = keras.models.load_model('best-cnn-model.h5')"
      ],
      "execution_count": 25,
      "outputs": [
        {
          "output_type": "stream",
          "text": [
            "--2021-08-01 13:46:23--  https://github.com/rickiepark/hg-mldl/raw/master/best-cnn-model.h5\n",
            "Resolving github.com (github.com)... 140.82.114.4\n",
            "Connecting to github.com (github.com)|140.82.114.4|:443... connected.\n",
            "HTTP request sent, awaiting response... 302 Found\n",
            "Location: https://raw.githubusercontent.com/rickiepark/hg-mldl/master/best-cnn-model.h5 [following]\n",
            "--2021-08-01 13:46:23--  https://raw.githubusercontent.com/rickiepark/hg-mldl/master/best-cnn-model.h5\n",
            "Resolving raw.githubusercontent.com (raw.githubusercontent.com)... 185.199.108.133, 185.199.109.133, 185.199.111.133, ...\n",
            "Connecting to raw.githubusercontent.com (raw.githubusercontent.com)|185.199.108.133|:443... connected.\n",
            "HTTP request sent, awaiting response... 200 OK\n",
            "Length: 4044200 (3.9M) [application/octet-stream]\n",
            "Saving to: ‘best-cnn-model.h5.3’\n",
            "\n",
            "best-cnn-model.h5.3 100%[===================>]   3.86M  --.-KB/s    in 0.1s    \n",
            "\n",
            "2021-08-01 13:46:23 (26.0 MB/s) - ‘best-cnn-model.h5.3’ saved [4044200/4044200]\n",
            "\n"
          ],
          "name": "stdout"
        }
      ]
    },
    {
      "cell_type": "code",
      "metadata": {
        "colab": {
          "base_uri": "https://localhost:8080/"
        },
        "id": "sZwZrOBr6qqx",
        "outputId": "becf0229-fa0d-40db-93f6-ed7766097eb5"
      },
      "source": [
        "model.layers"
      ],
      "execution_count": 8,
      "outputs": [
        {
          "output_type": "execute_result",
          "data": {
            "text/plain": [
              "[<tensorflow.python.keras.layers.convolutional.Conv2D at 0x7f8e3d858050>,\n",
              " <tensorflow.python.keras.layers.pooling.MaxPooling2D at 0x7f8e3d8c9a10>,\n",
              " <tensorflow.python.keras.layers.convolutional.Conv2D at 0x7f8e3d8c97d0>,\n",
              " <tensorflow.python.keras.layers.pooling.MaxPooling2D at 0x7f8e3d858390>,\n",
              " <tensorflow.python.keras.layers.core.Flatten at 0x7f8e3d893690>,\n",
              " <tensorflow.python.keras.layers.core.Dense at 0x7f8e3d8960d0>,\n",
              " <tensorflow.python.keras.layers.core.Dropout at 0x7f8e3d93ae50>,\n",
              " <tensorflow.python.keras.layers.core.Dense at 0x7f8e3d853490>]"
            ]
          },
          "metadata": {
            "tags": []
          },
          "execution_count": 8
        }
      ]
    },
    {
      "cell_type": "code",
      "metadata": {
        "colab": {
          "base_uri": "https://localhost:8080/"
        },
        "id": "veCJNQY26tDp",
        "outputId": "a9500a9d-8a05-44be-c39a-2d9dee31af49"
      },
      "source": [
        "conv = model.layers[0]\n",
        "print(conv.weights[0].shape, conv.weights[1].shape)"
      ],
      "execution_count": 10,
      "outputs": [
        {
          "output_type": "stream",
          "text": [
            "(3, 3, 1, 32) (32,)\n"
          ],
          "name": "stdout"
        }
      ]
    },
    {
      "cell_type": "code",
      "metadata": {
        "colab": {
          "base_uri": "https://localhost:8080/"
        },
        "id": "jKnI9gos67P0",
        "outputId": "c3d3890f-221a-4586-a6b0-26efe6e9e2f9"
      },
      "source": [
        "# 평균 표준편차 출력\n",
        "conv_weights = conv.weights[0].numpy()\n",
        "print(conv_weights.mean(), conv_weights.std())"
      ],
      "execution_count": 11,
      "outputs": [
        {
          "output_type": "stream",
          "text": [
            "-0.03802128 0.27455312\n"
          ],
          "name": "stdout"
        }
      ]
    },
    {
      "cell_type": "code",
      "metadata": {
        "colab": {
          "base_uri": "https://localhost:8080/",
          "height": 279
        },
        "id": "PkVF3bGQ7ESb",
        "outputId": "c607f563-06e5-4c5c-d61c-2616142e4d77"
      },
      "source": [
        "# 가중치 분포도 히스토그램\n",
        "import matplotlib.pyplot as plt\n",
        "\n",
        "plt.hist(conv_weights.reshape(-1, 1))\n",
        "plt.xlabel('weight')\n",
        "plt.ylabel('count')\n",
        "plt.show()"
      ],
      "execution_count": 13,
      "outputs": [
        {
          "output_type": "display_data",
          "data": {
            "image/png": "[encoded data removed]",
            "text/plain": [
              "<Figure size 432x288 with 1 Axes>"
            ]
          },
          "metadata": {
            "tags": [],
            "needs_background": "light"
          }
        }
      ]
    },
    {
      "cell_type": "code",
      "metadata": {
        "colab": {
          "base_uri": "https://localhost:8080/",
          "height": 134
        },
        "id": "3SMEuXc17IgS",
        "outputId": "70b4c8af-f6f8-4069-aacb-b9cfd9bc6399"
      },
      "source": [
        "# 3*3 커널 32개 시각화\n",
        "fig, axs = plt.subplots(2, 16, figsize=(15,2))\n",
        "\n",
        "for i in range(2):\n",
        "    for j in range(16):\n",
        "        axs[i, j].imshow(conv_weights[:,:,0,i*16 + j], vmin=-0.5, vmax=0.5)\n",
        "        axs[i, j].axis('off')\n",
        "\n",
        "plt.show()"
      ],
      "execution_count": 14,
      "outputs": [
        {
          "output_type": "display_data",
          "data": {
            "image/png": "[encoded data removed]",
            "text/plain": [
              "<Figure size 1080x144 with 32 Axes>"
            ]
          },
          "metadata": {
            "tags": [],
            "needs_background": "light"
          }
        }
      ]
    },
    {
      "cell_type": "code",
      "metadata": {
        "id": "FhGiXzep9OuJ"
      },
      "source": [
        "# 빈 합성곱 신경망\n",
        "no_training_model = keras.Sequential()\n",
        "\n",
        "no_training_model.add(keras.layers.Conv2D(32, kernel_size=3, activation='relu', padding='same', input_shape=(28,28,1)))"
      ],
      "execution_count": 19,
      "outputs": []
    },
    {
      "cell_type": "code",
      "metadata": {
        "colab": {
          "base_uri": "https://localhost:8080/"
        },
        "id": "JmfxV_BG9Tkv",
        "outputId": "426142c5-6574-4c41-ba4b-2e408e458f35"
      },
      "source": [
        "no_training_conv = no_training_model.layers[0]\n",
        "print(no_training_conv.weights[0].shape)"
      ],
      "execution_count": 20,
      "outputs": [
        {
          "output_type": "stream",
          "text": [
            "(3, 3, 1, 32)\n"
          ],
          "name": "stdout"
        }
      ]
    },
    {
      "cell_type": "code",
      "metadata": {
        "colab": {
          "base_uri": "https://localhost:8080/"
        },
        "id": "Q_7TWT_T9Vq3",
        "outputId": "3f3dc8b2-f5da-4c7b-f4ae-2d8c1e0cb7d8"
      },
      "source": [
        "# 평균, 표준편차\n",
        "no_training_weights = no_training_conv.weights[0].numpy()\n",
        "print(no_training_weights.mean(), no_training_weights.std())"
      ],
      "execution_count": 22,
      "outputs": [
        {
          "output_type": "stream",
          "text": [
            "0.005510668 0.08527399\n"
          ],
          "name": "stdout"
        }
      ]
    },
    {
      "cell_type": "code",
      "metadata": {
        "colab": {
          "base_uri": "https://localhost:8080/",
          "height": 279
        },
        "id": "bhapvzvE9mp6",
        "outputId": "abf27c78-11fa-4b98-a488-5413ac1c924b"
      },
      "source": [
        "plt.hist(no_training_weights.reshape(-1, 1))\n",
        "plt.xlabel('weight')\n",
        "plt.ylabel('count')\n",
        "plt.show()"
      ],
      "execution_count": 23,
      "outputs": [
        {
          "output_type": "display_data",
          "data": {
            "image/png": "[encoded data removed]",
            "text/plain": [
              "<Figure size 432x288 with 1 Axes>"
            ]
          },
          "metadata": {
            "tags": [],
            "needs_background": "light"
          }
        }
      ]
    },
    {
      "cell_type": "code",
      "metadata": {
        "colab": {
          "base_uri": "https://localhost:8080/",
          "height": 134
        },
        "id": "6f9VUqz09oPD",
        "outputId": "f60270ac-7ba8-4841-feec-ac45a8ccbb2b"
      },
      "source": [
        "fig, axs = plt.subplots(2, 16, figsize=(15,2))\n",
        "\n",
        "for i in range(2):\n",
        "    for j in range(16):\n",
        "        axs[i, j].imshow(no_training_weights[:,:,0,i*16 + j], vmin=-0.5, vmax=0.5)\n",
        "        axs[i, j].axis('off')\n",
        "\n",
        "plt.show()"
      ],
      "execution_count": 24,
      "outputs": [
        {
          "output_type": "display_data",
          "data": {
            "image/png": "[encoded data removed]",
            "text/plain": [
              "<Figure size 1080x144 with 32 Axes>"
            ]
          },
          "metadata": {
            "tags": [],
            "needs_background": "light"
          }
        }
      ]
    }
  ]
}