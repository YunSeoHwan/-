{
  "nbformat": 4,
  "nbformat_minor": 0,
  "metadata": {
    "colab": {
      "name": "5-2.ipynb",
      "provenance": [],
      "authorship_tag": "ABX9TyOu6wtRpjVHntDjQBwMRlBY",
      "include_colab_link": true
    },
    "kernelspec": {
      "name": "python3",
      "display_name": "Python 3"
    },
    "language_info": {
      "name": "python"
    }
  },
  "cells": [
    {
      "cell_type": "markdown",
      "metadata": {
        "id": "view-in-github",
        "colab_type": "text"
      },
      "source": [
        "<a href=\"https://colab.research.google.com/github/YunSeoHwan/My-own-study-repository/blob/main/5-2(first).ipynb\" target=\"_parent\"><img src=\"https://colab.research.google.com/assets/colab-badge.svg\" alt=\"Open In Colab\"/></a>"
      ]
    },
    {
      "cell_type": "markdown",
      "metadata": {
        "id": "izLTHbHvuSdg"
      },
      "source": [
        "# **검증 세트**"
      ]
    },
    {
      "cell_type": "code",
      "metadata": {
        "colab": {
          "base_uri": "https://localhost:8080/"
        },
        "id": "yWShK9f2uPHU",
        "outputId": "8f366f6b-a985-44e3-f503-bc78cd156d86"
      },
      "source": [
        "import pandas as pd\n",
        "wine = pd.read_csv('https://bit.ly/wine_csv_data')\n",
        "\n",
        "data = wine[['alcohol', 'sugar', 'pH']].to_numpy()\n",
        "target = wine['class'].to_numpy()\n",
        "\n",
        "# 훈련세트 테스트세트 나누기\n",
        "from sklearn.model_selection import train_test_split\n",
        "\n",
        "train_input, test_input, train_target, test_target = train_test_split(data, target, test_size=0.2, random_state=4)\n",
        "# 검증세트 나누기\n",
        "sub_input, val_input, sub_target, val_target = train_test_split(train_input, train_target, test_size=0.2, random_state=42)\n",
        "print(sub_input.shape, val_input.shape)\n",
        "\n",
        "from sklearn.tree import DecisionTreeClassifier\n",
        "\n",
        "dt = DecisionTreeClassifier(random_state=42)\n",
        "dt.fit(sub_input, sub_target)\n",
        "\n",
        "print(dt.score(sub_input, sub_target))\n",
        "print(dt.score(val_input, val_target))"
      ],
      "execution_count": 4,
      "outputs": [
        {
          "output_type": "stream",
          "text": [
            "(4157, 3) (1040, 3)\n",
            "0.9973538609574212\n",
            "0.8576923076923076\n"
          ],
          "name": "stdout"
        }
      ]
    },
    {
      "cell_type": "markdown",
      "metadata": {
        "id": "1dBBQuMk08DP"
      },
      "source": [
        "# **교차 검증**"
      ]
    },
    {
      "cell_type": "code",
      "metadata": {
        "colab": {
          "base_uri": "https://localhost:8080/"
        },
        "id": "hF_9t7T60-1D",
        "outputId": "b6922721-e94d-45d6-9d22-75968f59853e"
      },
      "source": [
        "from sklearn.model_selection import cross_validate\n",
        "scores = cross_validate(dt, train_input, train_target)\n",
        "print(scores) # 처음 2개 키는 모델훈련시간, 검증시간\n",
        "\n",
        "import numpy as np\n",
        "print(np.mean(scores['test_score'])) # 마지막 키 test_score의 평균 즉, 검증 폴드의 점수"
      ],
      "execution_count": 7,
      "outputs": [
        {
          "output_type": "stream",
          "text": [
            "{'fit_time': array([0.01081133, 0.00762749, 0.00747085, 0.00768852, 0.00734282]), 'score_time': array([0.00085974, 0.00073838, 0.00070357, 0.00078273, 0.00080323]), 'test_score': array([0.86346154, 0.85576923, 0.85948027, 0.84985563, 0.85370549])}\n",
            "0.8564544310357591\n"
          ],
          "name": "stdout"
        }
      ]
    },
    {
      "cell_type": "markdown",
      "metadata": {
        "id": "IXZIglVa2Cgj"
      },
      "source": [
        "# **분할기를 이용한 교차검증(위 값과 동일)**"
      ]
    },
    {
      "cell_type": "code",
      "metadata": {
        "colab": {
          "base_uri": "https://localhost:8080/"
        },
        "id": "LymxYO372IPl",
        "outputId": "a43b4ed6-a648-4c28-e1c7-b1ebf6864847"
      },
      "source": [
        "from sklearn.model_selection import StratifiedKFold\n",
        "scores = cross_validate(dt, train_input, train_target, cv=StratifiedKFold())\n",
        "print(np.mean(scores['test_score']))"
      ],
      "execution_count": 9,
      "outputs": [
        {
          "output_type": "stream",
          "text": [
            "0.8564544310357591\n"
          ],
          "name": "stdout"
        }
      ]
    },
    {
      "cell_type": "markdown",
      "metadata": {
        "id": "z5xEBzil2qMF"
      },
      "source": [
        "# **10-폴드 교차 검증**"
      ]
    },
    {
      "cell_type": "code",
      "metadata": {
        "colab": {
          "base_uri": "https://localhost:8080/"
        },
        "id": "_65IbOPI2t0y",
        "outputId": "f40422eb-e681-48fb-bbd0-8a8aba48716b"
      },
      "source": [
        "splitter = StratifiedKFold(n_splits=10, shuffle=True, random_state=42)\n",
        "scores = cross_validate(dt, train_input, train_target, cv=splitter)\n",
        "print(np.mean(scores['test_score']))"
      ],
      "execution_count": 10,
      "outputs": [
        {
          "output_type": "stream",
          "text": [
            "0.858766859344894\n"
          ],
          "name": "stdout"
        }
      ]
    }
  ]
}