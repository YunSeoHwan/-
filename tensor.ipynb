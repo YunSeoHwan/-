{
  "nbformat": 4,
  "nbformat_minor": 0,
  "metadata": {
    "colab": {
      "private_outputs": true,
      "provenance": [],
      "authorship_tag": "ABX9TyOXvrDQE+bdLBunJiJPqzU3",
      "include_colab_link": true
    },
    "kernelspec": {
      "name": "python3",
      "display_name": "Python 3"
    },
    "language_info": {
      "name": "python"
    }
  },
  "cells": [
    {
      "cell_type": "markdown",
      "metadata": {
        "id": "view-in-github",
        "colab_type": "text"
      },
      "source": [
        "<a href=\"https://colab.research.google.com/github/YunSeoHwan/My-own-study-repository/blob/main/tensor.ipynb\" target=\"_parent\"><img src=\"https://colab.research.google.com/assets/colab-badge.svg\" alt=\"Open In Colab\"/></a>"
      ]
    },
    {
      "cell_type": "markdown",
      "source": [
        "# **파이토치 텐서 생성하기**"
      ],
      "metadata": {
        "id": "S2wP-LNF-MOc"
      }
    },
    {
      "cell_type": "code",
      "execution_count": null,
      "metadata": {
        "id": "CT8ovbt36oGk"
      },
      "outputs": [],
      "source": [
        "import torch"
      ]
    },
    {
      "cell_type": "code",
      "source": [
        "# 실수형 Tensor 생성\n",
        "ft = torch.FloatTensor([[1, 2],\n",
        "                        [3, 4]])\n",
        "\n",
        "print(ft)"
      ],
      "metadata": {
        "id": "9lrAa5Yn-ds5"
      },
      "execution_count": null,
      "outputs": []
    },
    {
      "cell_type": "code",
      "source": [
        "# Long, Byte Tensor\n",
        "lt = torch.LongTensor([[1, 2],\n",
        "                        [3, 4]])\n",
        "\n",
        "bt = torch.ByteTensor([[1, 0],\n",
        "                       [0, 1]])\n",
        "\n",
        "print(lt, bt)"
      ],
      "metadata": {
        "id": "0pGnqeQc_A6c"
      },
      "execution_count": null,
      "outputs": []
    },
    {
      "cell_type": "code",
      "source": [
        "# 임의의 값 Tensor\n",
        "x = torch.FloatTensor(3, 2)\n",
        "\n",
        "print(x)"
      ],
      "metadata": {
        "id": "KFZnWZYv_rOb"
      },
      "execution_count": null,
      "outputs": []
    },
    {
      "cell_type": "markdown",
      "source": [
        "# **Numpy 호환**"
      ],
      "metadata": {
        "id": "2KW_Vc2SAByC"
      }
    },
    {
      "cell_type": "code",
      "source": [
        "import numpy as np"
      ],
      "metadata": {
        "id": "qJwbr4vAAFHM"
      },
      "execution_count": null,
      "outputs": []
    },
    {
      "cell_type": "code",
      "source": [
        "x = np.array([[1, 2],\n",
        "              [3, 4]])      # array 정의\n",
        "\n",
        "print(x, type(x))"
      ],
      "metadata": {
        "id": "oC69EVvRAK4H"
      },
      "execution_count": null,
      "outputs": []
    },
    {
      "cell_type": "code",
      "source": [
        "# ndarray -> tensor 전환\n",
        "x = torch.from_numpy(x)\n",
        "\n",
        "print(x, type(x))"
      ],
      "metadata": {
        "id": "I7hGDkh4AcFz"
      },
      "execution_count": null,
      "outputs": []
    },
    {
      "cell_type": "code",
      "source": [
        "# tensor -> ndarray 전환\n",
        "x = x.numpy()\n",
        "\n",
        "print(x, type(x))"
      ],
      "metadata": {
        "id": "zTLfiTiDBJ45"
      },
      "execution_count": null,
      "outputs": []
    },
    {
      "cell_type": "code",
      "source": [
        "# type 변환\n",
        "ft.long()\n",
        "\n",
        "lt.float()"
      ],
      "metadata": {
        "id": "r9nNJRDDBaTM"
      },
      "execution_count": null,
      "outputs": []
    },
    {
      "cell_type": "markdown",
      "source": [
        "# **Tensor 크기 구하기**"
      ],
      "metadata": {
        "id": "pHNduewKCSF9"
      }
    },
    {
      "cell_type": "code",
      "source": [
        "x = torch.FloatTensor([[[1, 2],\n",
        "                        [3, 4]],\n",
        "                       [[5, 6],\n",
        "                        [7, 8]],\n",
        "                       [[9, 10],\n",
        "                        [11, 12]]])\n",
        "\n",
        "print(x.size())\n",
        "print(x.shape)"
      ],
      "metadata": {
        "id": "Rmf-baqLCXSx"
      },
      "execution_count": null,
      "outputs": []
    },
    {
      "cell_type": "code",
      "source": [
        "# 차원 indexing\n",
        "print(x.size(1))\n",
        "print(x.shape[1])"
      ],
      "metadata": {
        "id": "PJ3Wr1UxC8B4"
      },
      "execution_count": null,
      "outputs": []
    },
    {
      "cell_type": "code",
      "source": [
        "# tensor 차원 개수\n",
        "print(x.dim())\n",
        "print(len(x.size()))"
      ],
      "metadata": {
        "id": "iAeic1xcDJ0q"
      },
      "execution_count": null,
      "outputs": []
    }
  ]
}