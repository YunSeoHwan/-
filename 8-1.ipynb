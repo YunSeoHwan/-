{
  "nbformat": 4,
  "nbformat_minor": 0,
  "metadata": {
    "colab": {
      "name": "8-1.ipynb",
      "provenance": [],
      "authorship_tag": "ABX9TyMpWIG+hX4uEkFySDuYxRPn",
      "include_colab_link": true
    },
    "kernelspec": {
      "name": "python3",
      "display_name": "Python 3"
    },
    "language_info": {
      "name": "python"
    }
  },
  "cells": [
    {
      "cell_type": "markdown",
      "metadata": {
        "id": "view-in-github",
        "colab_type": "text"
      },
      "source": [
        "<a href=\"https://colab.research.google.com/github/YunSeoHwan/My-own-study-repository/blob/main/8-1.ipynb\" target=\"_parent\"><img src=\"https://colab.research.google.com/assets/colab-badge.svg\" alt=\"Open In Colab\"/></a>"
      ]
    },
    {
      "cell_type": "markdown",
      "metadata": {
        "id": "mPyr9X6T7yFs"
      },
      "source": [
        "# **합성곱 신경망의 구성요소**"
      ]
    },
    {
      "cell_type": "markdown",
      "metadata": {
        "id": "pt3p8rax77fc"
      },
      "source": [
        "## **합성곱**\n",
        "\n",
        "*   유용한 특성만 드러나게 하는것으로 비유\n",
        "*   각 특성에 뉴런의 가중지를 곱하고 절편을 더함. 단, 동일한 가중치와 절편으로 계산\n",
        "\n",
        "*   ex) 10개의 데이터가 있고, 3개의 뉴런이 가중치를 가진다고 하면 총 출력은 8개가 됨.\n",
        "*   뉴런 가중치 수는 정하기 나름\n",
        "\n",
        "\n",
        "---\n",
        "**-> 위와 같은 것을 합성곱 신경망(CNN)이라고 함.**\n",
        "\n",
        "\n"
      ]
    }
  ]
}