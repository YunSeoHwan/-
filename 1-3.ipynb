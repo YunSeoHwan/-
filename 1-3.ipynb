{
  "nbformat": 4,
  "nbformat_minor": 0,
  "metadata": {
    "colab": {
      "name": "BreamAndSmelt(1-3).ipynb",
      "provenance": [],
      "authorship_tag": "ABX9TyOeOgH/Hsf8onj0Tcjq2ZaO",
      "include_colab_link": true
    },
    "kernelspec": {
      "name": "python3",
      "display_name": "Python 3"
    },
    "language_info": {
      "name": "python"
    }
  },
  "cells": [
    {
      "cell_type": "markdown",
      "metadata": {
        "id": "view-in-github",
        "colab_type": "text"
      },
      "source": [
        "<a href=\"https://colab.research.google.com/github/YunSeoHwan/My-own-study-repository/blob/main/BreamAndSmelt(1-3).ipynb\" target=\"_parent\"><img src=\"https://colab.research.google.com/assets/colab-badge.svg\" alt=\"Open In Colab\"/></a>"
      ]
    },
    {
      "cell_type": "code",
      "metadata": {
        "colab": {
          "base_uri": "https://localhost:8080/",
          "height": 298
        },
        "id": "Iv3hITuaf9tB",
        "outputId": "84bfd017-3443-4eef-9c94-8aa93651a99b"
      },
      "source": [
        "### 도미 데이터 준비\n",
        "\n",
        "bream_length = [25.4, 26.3, 26.5, 29.0, 29.0, 29.7, 29.7, 30.0, 30.0, 30.7, 31.0, 31.0, \n",
        "                31.5, 32.0, 32.0, 32.0, 33.0, 33.0, 33.5, 33.5, 34.0, 34.0, 34.5, 35.0, \n",
        "                35.0, 35.0, 35.0, 36.0, 36.0, 37.0, 38.5, 38.5, 39.5, 41.0, 41.0]\n",
        "bream_weight = [242.0, 290.0, 340.0, 363.0, 430.0, 450.0, 500.0, 390.0, 450.0, 500.0, 475.0, 500.0, \n",
        "                500.0, 340.0, 600.0, 600.0, 700.0, 700.0, 610.0, 650.0, 575.0, 685.0, 620.0, 680.0, \n",
        "                700.0, 725.0, 720.0, 714.0, 850.0, 1000.0, 920.0, 955.0, 925.0, 975.0, 950.0]\n",
        "\n",
        "import matplotlib.pyplot as plt # pylot 함수 plt\n",
        "\n",
        "plt.scatter(bream_length, bream_weight) # 산점도를 그리는 함수\n",
        "plt.xlabel('length')\n",
        "plt.ylabel('weight')\n",
        "\n",
        "### 방어 데이터 준비\n",
        "\n",
        "smelt_length = [9.8, 10.5, 10.6, 11.0, 11.2, 11.3, 11.8, 11.8, 12.0, 12.2, 12.4, 13.0, 14.3, 15.0]\n",
        "smelt_weight = [6.7, 7.5, 7.0, 9.7, 9.8, 8.7, 10.0, 9.9, 9.8, 12.2, 13.4, 12.2, 19.7, 19.9]\n",
        "plt.scatter(smelt_length, smelt_weight)\n",
        "plt.xlabel('length') \n",
        "plt.ylabel('weight')\n",
        "\n",
        "### 머신러닝 프로그램\n",
        "\n",
        "length = bream_length + smelt_length\n",
        "weight = bream_weight + smelt_weight # 2개의 x, y축 값 병합\n",
        "\n",
        "fish_data = [[l, w] for l, w in zip(length, weight)] # fish_data에 병합된 값을 할당\n",
        "fish_target = [1] * 35 + [0] * 14 # 도미는 1 방어는 0으로 값 할당 \n",
        "\n",
        "from sklearn.neighbors import KNeighborsClassifier # 사이킷런 K-최근접 이웃 알고리즘 import\n",
        "kn = KNeighborsClassifier() # 매개변수 정의\n",
        "kn.fit(fish_data, fish_target)\n",
        "kn.score(fish_data, fish_target)\n",
        "\n",
        "### k-최근접 이웃 알고리즘\n",
        "\n",
        "plt.scatter(bream_length, bream_weight)\n",
        "plt.scatter(smelt_length, smelt_weight)\n",
        "plt.scatter(30, 600, marker='^')\n",
        "plt.xlabel('length')\n",
        "plt.ylabel('weight')\n",
        "plt.show()\n",
        "kn.predict([[30,600]])\n",
        "\n"
      ],
      "execution_count": null,
      "outputs": [
        {
          "output_type": "display_data",
          "data": {
            "image/png": "[encoded data removed]",
            "text/plain": [
              "<Figure size 432x288 with 1 Axes>"
            ]
          },
          "metadata": {
            "tags": [],
            "needs_background": "light"
          }
        },
        {
          "output_type": "execute_result",
          "data": {
            "text/plain": [
              "array([1])"
            ]
          },
          "metadata": {
            "tags": []
          },
          "execution_count": 13
        }
      ]
    },
    {
      "cell_type": "markdown",
      "metadata": {
        "id": "017jaW5Kl0lD"
      },
      "source": [
        "# 연습문제 4"
      ]
    },
    {
      "cell_type": "code",
      "metadata": {
        "colab": {
          "base_uri": "https://localhost:8080/"
        },
        "id": "0jQcZHW7lznF",
        "outputId": "3aa718b6-a5f9-4cc0-b5a3-b8b7639307bb"
      },
      "source": [
        "kn = KNeighborsClassifier()\n",
        "kn.fit(fish_data, fish_target)\n",
        "\n",
        "for n in range(5, 50):\n",
        "  kn.n_neighbors = n\n",
        "  score = kn.score(fish_data, fish_target)\n",
        "  if score < 1:\n",
        "    print(n, score)\n",
        "    break"
      ],
      "execution_count": null,
      "outputs": [
        {
          "output_type": "stream",
          "text": [
            "18 0.9795918367346939\n"
          ],
          "name": "stdout"
        }
      ]
    }
  ]
}
