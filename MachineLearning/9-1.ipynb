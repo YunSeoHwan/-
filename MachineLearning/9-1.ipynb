{
  "nbformat": 4,
  "nbformat_minor": 0,
  "metadata": {
    "colab": {
      "name": "9-1.ipynb",
      "provenance": [],
      "authorship_tag": "ABX9TyMr0KhLv2uRaBscwcaoGOhN",
      "include_colab_link": true
    },
    "kernelspec": {
      "name": "python3",
      "display_name": "Python 3"
    },
    "language_info": {
      "name": "python"
    }
  },
  "cells": [
    {
      "cell_type": "markdown",
      "metadata": {
        "id": "view-in-github",
        "colab_type": "text"
      },
      "source": [
        "<a href=\"https://colab.research.google.com/github/YunSeoHwan/My-own-study-repository/blob/main/9-1.ipynb\" target=\"_parent\"><img src=\"https://colab.research.google.com/assets/colab-badge.svg\" alt=\"Open In Colab\"/></a>"
      ]
    },
    {
      "cell_type": "markdown",
      "metadata": {
        "id": "yAVBEAIeQgBi"
      },
      "source": [
        "# **순차 데이터와 순환 신경망**\n",
        "\n",
        "---\n",
        "\n"
      ]
    },
    {
      "cell_type": "markdown",
      "metadata": {
        "id": "HBqdBNM5QklB"
      },
      "source": [
        "## **순차 데이터(Sequential data)**\n",
        "\n",
        "*   순서에 의미가 있는 데이터\n",
        "*   ex) i am a boy는 말이 되나 boy am a i는 말이 안됨.\n",
        "\n",
        "\n",
        "## **피드포워드 신경망**\n",
        "\n",
        "*   입력 데이터의 흐름이 앞으로만 전달되는 신경망\n",
        "*   합성곱 신경망과 완전 연결 신경망이 있음.\n",
        "\n",
        "\n",
        "\n",
        "---\n",
        "\n",
        "\n",
        "\n",
        "\n"
      ]
    },
    {
      "cell_type": "markdown",
      "metadata": {
        "id": "GiujPjipR4Q8"
      },
      "source": [
        "## **순환 신경망(Recurrent neural netwokr, RNN)**\n",
        "\n",
        "*   시간의 흐름에 따라 변화하는 데이터를 학습하기 위한 인공신경망\n",
        "\n",
        "## **타임스텝**\n",
        "\n",
        "*   순환 신경망에서 샘플을 처리하는 한 단계를 표현하는 용어.\n",
        "\n",
        "## **셀(Cell), 은닉상태(Hidden state)**\n",
        "\n",
        "*   순환 신경망에서는 층을 셀이라고 부름.\n",
        "*   셀의 출력을 은닉상태라고 부름.\n",
        "\n",
        "\n",
        "\n",
        "\n",
        "---\n",
        "\n",
        "\n",
        "\n",
        "\n"
      ]
    },
    {
      "cell_type": "markdown",
      "metadata": {
        "id": "FCDxb3aUadLl"
      },
      "source": [
        "# **셀의 가중치와 입출력**\n",
        "\n",
        "---\n",
        "\n"
      ]
    },
    {
      "cell_type": "markdown",
      "metadata": {
        "id": "GI2iHb_Caq4D"
      },
      "source": [
        "\n",
        "\n",
        "*   **순환층에서는 은닉상태가 모든 뉴런에 순환함.**\n",
        "*   **순환층은 일반적으로 2개의 차원을 가지고 시퀀스(Sequence)라 부름.**\n",
        "\n",
        "*   **순환층은 기본적으로 마지막 타임스템의 은닉 상태만 출력으로 보냄.**\n",
        "*   **즉, 입력된 시퀀스 길이를 모두 읽어서 정보를 마지막 은닉 상태에 압축하여 전달.**\n",
        "\n",
        "## **2개의 순환층일 때**\n",
        "\n",
        "*   마지막 셀을 제외한 다른 모든 셀은 모든 타임스텝의 은닉상태를 출력.\n",
        "*   마지막 셀의 출력이 1차원임.\n",
        "\n",
        "\n",
        "\n",
        "\n",
        "\n",
        "\n",
        "\n"
      ]
    }
  ]
}
