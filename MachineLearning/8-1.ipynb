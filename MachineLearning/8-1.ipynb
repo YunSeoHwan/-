{
  "nbformat": 4,
  "nbformat_minor": 0,
  "metadata": {
    "colab": {
      "name": "8-1.ipynb",
      "provenance": [],
      "authorship_tag": "ABX9TyNQTW5l0I2vXjwqQaex7WdE",
      "include_colab_link": true
    },
    "kernelspec": {
      "name": "python3",
      "display_name": "Python 3"
    },
    "language_info": {
      "name": "python"
    }
  },
  "cells": [
    {
      "cell_type": "markdown",
      "metadata": {
        "id": "view-in-github",
        "colab_type": "text"
      },
      "source": [
        "<a href=\"https://colab.research.google.com/github/YunSeoHwan/My-own-study-repository/blob/main/8-1.ipynb\" target=\"_parent\"><img src=\"https://colab.research.google.com/assets/colab-badge.svg\" alt=\"Open In Colab\"/></a>"
      ]
    },
    {
      "cell_type": "markdown",
      "metadata": {
        "id": "mPyr9X6T7yFs"
      },
      "source": [
        "# **합성곱 신경망의 구성요소**"
      ]
    },
    {
      "cell_type": "markdown",
      "metadata": {
        "id": "pt3p8rax77fc"
      },
      "source": [
        "## **합성곱**\n",
        "\n",
        "*   유용한 특성만 드러나게 하는것으로 비유\n",
        "*   각 특성에 뉴런의 가중지를 곱하고 절편을 더함. 단, 동일한 가중치와 절편으로 계산\n",
        "\n",
        "*   ex) 10개의 데이터가 있고, 3개의 뉴런이 가중치를 가진다고 하면 총 출력은 8개가 됨.\n",
        "*   뉴런 가중치 수는 정하기 나름\n",
        "\n",
        "\n",
        "---\n",
        "**-> 위와 같은 것을 합성곱 신경망(CNN)이라고 함. 1개 이상의 합성곱 층을 쓴 인공신경망**\n",
        "\n",
        "\n"
      ]
    },
    {
      "cell_type": "markdown",
      "metadata": {
        "id": "pFyD_U9K-H35"
      },
      "source": [
        "# **용어정리**\n",
        "\n",
        "\n",
        "*   **필터** : 뉴런 개수를 이야기 할 때 필터라 부름.\n",
        "*   **커널** : 입력에 곱해지는 가중치\n",
        "\n",
        "*   **특성 맵** : 합성곱 계산을 통해 얻은 출력\n",
        "*   **패딩(padding)** : 커널이 도장(필터)을 찍을 횟수를 늘려주기 위해 입력배열 주변을 가상의 원소로 채우는 것. 0으로 채운 패딩을 세임(same) 패딩이라 함.\n",
        "\n",
        "*   **밸리드 패딩(Valid padding)** : 패딩없이 순수한 입력 배열에서만 합성곱을 하여 특성 맵을 만드는 경우. 특성 맵의 크기가 무조건 줄어듬.\n",
        "*   **스트라이드** : 1칸이 아닌 2칸 이상씩 건나뛰며 합성곱 연산을 하는 크기\n",
        "\n",
        "*   **풀링(pooling)** : 2차원의 가로 세로 방향의 공간을 줄이는 연산. 보통 최댓값이나, 평균값을 구해서 함. 겹치지 않고 이동함.\n",
        "*   항목 추가\n",
        "\n",
        "\n",
        "\n",
        "\n",
        "\n",
        "\n",
        "\n"
      ]
    },
    {
      "cell_type": "markdown",
      "metadata": {
        "id": "YNXyr_TZF6rt"
      },
      "source": [
        "# **케라스 합성곱 층**"
      ]
    },
    {
      "cell_type": "code",
      "metadata": {
        "colab": {
          "base_uri": "https://localhost:8080/"
        },
        "id": "ceIzOOrkGA6E",
        "outputId": "b862c96f-0d3f-401f-c331-bfeb292cd08a"
      },
      "source": [
        "from tensorflow import keras\n",
        "keras.layers.Conv2D(10, kernel_size=(3,3), activation='relu')"
      ],
      "execution_count": 1,
      "outputs": [
        {
          "output_type": "execute_result",
          "data": {
            "text/plain": [
              "<tensorflow.python.keras.layers.convolutional.Conv2D at 0x7f333f1a3ad0>"
            ]
          },
          "metadata": {
            "tags": []
          },
          "execution_count": 1
        }
      ]
    },
    {
      "cell_type": "code",
      "metadata": {
        "colab": {
          "base_uri": "https://localhost:8080/"
        },
        "id": "ZeGBXBQ1JrN8",
        "outputId": "4b043249-d54e-4be0-9f76-a32c679628c0"
      },
      "source": [
        "# 세임 패딩(same padding)\n",
        "keras.layers.Conv2D(10, kernel_size=(3,3), activation='relu', padding='same') # 첫 매개변수는 필터의 수 -> 가중치 9, 절편 1"
      ],
      "execution_count": 2,
      "outputs": [
        {
          "output_type": "execute_result",
          "data": {
            "text/plain": [
              "<tensorflow.python.keras.layers.convolutional.Conv2D at 0x7f32f810b9d0>"
            ]
          },
          "metadata": {
            "tags": []
          },
          "execution_count": 2
        }
      ]
    },
    {
      "cell_type": "code",
      "metadata": {
        "colab": {
          "base_uri": "https://localhost:8080/"
        },
        "id": "ffh83UjvKb9D",
        "outputId": "0c21cbcb-e089-46c8-ea27-8f2cb1f101fc"
      },
      "source": [
        "# 스트라이드(strides) 추가\n",
        "keras.layers.Conv2D(10, kernel_size=(3,3), activation='relu', padding='same', strides=1)"
      ],
      "execution_count": 3,
      "outputs": [
        {
          "output_type": "execute_result",
          "data": {
            "text/plain": [
              "<tensorflow.python.keras.layers.convolutional.Conv2D at 0x7f32f809dcd0>"
            ]
          },
          "metadata": {
            "tags": []
          },
          "execution_count": 3
        }
      ]
    },
    {
      "cell_type": "markdown",
      "metadata": {
        "id": "jbMo2cokMBXI"
      },
      "source": [
        "# **풀링(pooling)**"
      ]
    },
    {
      "cell_type": "code",
      "metadata": {
        "colab": {
          "base_uri": "https://localhost:8080/"
        },
        "id": "qs-R4st3L__R",
        "outputId": "70dd7aa5-25b4-4391-b6fd-1bedca112be2"
      },
      "source": [
        "keras.layers.MaxPool2D(2)   # 보통 스트라이드와 같은 크기를 가짐. 여기서는 (2,2)"
      ],
      "execution_count": 4,
      "outputs": [
        {
          "output_type": "execute_result",
          "data": {
            "text/plain": [
              "<tensorflow.python.keras.layers.pooling.MaxPooling2D at 0x7f32f80f6f10>"
            ]
          },
          "metadata": {
            "tags": []
          },
          "execution_count": 4
        }
      ]
    },
    {
      "cell_type": "code",
      "metadata": {
        "colab": {
          "base_uri": "https://localhost:8080/"
        },
        "id": "AU0x9SwYMgtv",
        "outputId": "b9a351f3-5162-46e2-c4b9-ab4e3643fa52"
      },
      "source": [
        "keras.layers.MaxPool2D(2, strides=2, padding='valid')"
      ],
      "execution_count": 5,
      "outputs": [
        {
          "output_type": "execute_result",
          "data": {
            "text/plain": [
              "<tensorflow.python.keras.layers.pooling.MaxPooling2D at 0x7f32f80a1890>"
            ]
          },
          "metadata": {
            "tags": []
          },
          "execution_count": 5
        }
      ]
    }
  ]
}
